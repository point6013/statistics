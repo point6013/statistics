{
 "cells": [
  {
   "cell_type": "markdown",
   "metadata": {},
   "source": [
    "### T test 由来已久"
   ]
  },
  {
   "cell_type": "code",
   "execution_count": 3,
   "metadata": {},
   "outputs": [],
   "source": [
    "from scipy import stats\n",
    "import numpy as np"
   ]
  },
  {
   "cell_type": "markdown",
   "metadata": {},
   "source": [
    "- 假设检验也叫显著性检验，是以小概率反证法的逻辑推理，判断假设是否成立的统计方法。\n",
    "- 首先，假设样本对应的总体参数（或分布）与某个一直总体参数（或分布）相同，然后根据统计量的分布规律来分析样本数据，利用永伴信息判断是否支持这种假设，并对检验假设做出抉择，做出的结论是概率性的，不是绝对的肯定或者否定"
   ]
  },
  {
   "cell_type": "markdown",
   "metadata": {},
   "source": [
    "#### T 检验的概念"
   ]
  },
  {
   "cell_type": "markdown",
   "metadata": {},
   "source": [
    "- T检验是用于两个样本（或样本与群体）平均值差异度的检验方法。\n",
    "- 利用T分布理论来推断差异发生的概率，从而判断两个平均数的差异是否显著\n"
   ]
  },
  {
   "cell_type": "markdown",
   "metadata": {},
   "source": [
    "- T 检验的适用条件为样本分布符合正态分布\n",
    "    - 适用条件\n",
    "         - 当样本例数较小时，要求样本取自正态总体\n",
    "         -  做两样本均值比较时，还要去两样本的总体方差相等\n",
    "    - 用途\n",
    "        - 样本均数与群体均数的比较\n",
    "        - 两样本均数的比较\n",
    "\n"
   ]
  },
  {
   "cell_type": "markdown",
   "metadata": {},
   "source": [
    "###  假设检验的步骤\n",
    "#### 假设检验可以分为三步：\n",
    "\n",
    "- 建立建设检验的假设和确定检验水准\n",
    "- 选定检验防范和计算检验统计量\n",
    "- 确定P值和做出推断结论\n"
   ]
  },
  {
   "cell_type": "markdown",
   "metadata": {},
   "source": [
    "#### 建立检验假设和确定检验水准"
   ]
  },
  {
   "cell_type": "markdown",
   "metadata": {},
   "source": [
    "**假设检验** 是针对总体特征而言的，包括相互对立的两个方面，即两种假设，一周用是无效假设或者原假设、零假设，符号为H0，它是要否定的假设，另一种是备选假设，记为H1，它是H0 的对立面。二者是从反正法的思想提出的，H1和H0的相互关系，又相互对立的假设\n",
    "假设检验还需要根据研究目的的事件设置是否拒绝原假设的标准即，检验水准也叫显著性水准。它指的是原假设为真，但是被错误的拒绝的一个小概率值，一般去检验水准为α=0.05"
   ]
  },
  {
   "cell_type": "markdown",
   "metadata": {},
   "source": [
    "####  单侧检验与双侧检验"
   ]
  },
  {
   "cell_type": "markdown",
   "metadata": {},
   "source": [
    "- 在进行t检验的时候，如果其目的在于检验这个总体均数是否相等，即为双侧检验\n",
    "例如，在检验某种新的"
   ]
  }
 ],
 "metadata": {
  "kernelspec": {
   "display_name": "Python 3",
   "language": "python",
   "name": "python3"
  },
  "language_info": {
   "codemirror_mode": {
    "name": "ipython",
    "version": 3
   },
   "file_extension": ".py",
   "mimetype": "text/x-python",
   "name": "python",
   "nbconvert_exporter": "python",
   "pygments_lexer": "ipython3",
   "version": "3.6.2"
  }
 },
 "nbformat": 4,
 "nbformat_minor": 2
}
