{
 "cells": [
  {
   "cell_type": "markdown",
   "metadata": {},
   "source": [
    "### T test 由来已久"
   ]
  },
  {
   "cell_type": "code",
   "execution_count": 3,
   "metadata": {},
   "outputs": [],
   "source": [
    "from scipy import stats\n",
    "import numpy as np"
   ]
  },
  {
   "cell_type": "markdown",
   "metadata": {},
   "source": [
    "- 假设检验也叫显著性检验，是以小概率反证法的逻辑推理，判断假设是否成立的统计方法。\n",
    "- 首先，假设样本对应的总体参数（或分布）与某个一直总体参数（或分布）相同，然后根据统计量的分布规律来分析样本数据，利用永伴信息判断是否支持这种假设，并对检验假设做出抉择，做出的结论是概率性的，不是绝对的肯定或者否定"
   ]
  },
  {
   "cell_type": "markdown",
   "metadata": {},
   "source": [
    "#### T 检验的概念"
   ]
  },
  {
   "cell_type": "markdown",
   "metadata": {},
   "source": [
    "- T检验是用于两个样本（或样本与群体）平均值差异度的检验方法。\n",
    "- 利用T分布理论来推断差异发生的概率，从而判断两个平均数的差异是否显著\n"
   ]
  },
  {
   "cell_type": "markdown",
   "metadata": {},
   "source": [
    "- T 检验的适用条件为样本分布符合正态分布\n",
    "    - 适用条件\n",
    "         - 当样本例数较小时，要求样本取自正态总体\n",
    "         -  做两样本均值比较时，还要去两样本的总体方差相等\n",
    "    - 用途\n",
    "        - 样本均数与群体均数的比较\n",
    "        - 两样本均数的比较\n",
    "\n"
   ]
  },
  {
   "cell_type": "markdown",
   "metadata": {},
   "source": [
    "###  假设检验的步骤\n",
    "#### 假设检验可以分为三步：\n",
    "\n",
    "- 建立建设检验的假设和确定检验水准\n",
    "- 选定检验防范和计算检验统计量\n",
    "- 确定P值和做出推断结论\n"
   ]
  },
  {
   "cell_type": "markdown",
   "metadata": {},
   "source": [
    "#### 建立检验假设和确定检验水准"
   ]
  },
  {
   "cell_type": "markdown",
   "metadata": {},
   "source": [
    "**假设检验** 是针对总体特征而言的，包括相互对立的两个方面，即两种假设，一周用是无效假设或者原假设、零假设，符号为H0，它是要否定的假设，另一种是备选假设，记为H1，它是H0 的对立面。二者是从反正法的思想提出的，H1和H0的相互关系，又相互对立的假设\n",
    "假设检验还需要根据研究目的的事件设置是否拒绝原假设的标准即，检验水准也叫显著性水准。它指的是原假设为真，但是被错误的拒绝的一个小概率值，一般去检验水准为α=0.05"
   ]
  },
  {
   "cell_type": "markdown",
   "metadata": {},
   "source": [
    "####  单侧检验与双侧检验"
   ]
  },
  {
   "cell_type": "markdown",
   "metadata": {},
   "source": [
    "- 在进行t检验的时候，如果其目的在于检验这个总体均数是否相等，即为双侧检验\n",
    "例如，在检验某种新的降压药与常用降压药的效力是否相同，就是说，新药效力可能比旧药好，也可能比旧药查，或者相同，都有可能，此时则需要进行双侧检验"
   ]
  },
  {
   "cell_type": "markdown",
   "metadata": {},
   "source": [
    "- 如果我们已经新药的效力不可能低于旧药的效力，例如磺胺药+磺胺药增效剂从理论上推知其效果不可能低于单用磺胺药，这时，原假设设定为H0： μ1=μ2，备选假设为H1：μ1>μ2 ，统计上成为单侧检验"
   ]
  },
  {
   "cell_type": "markdown",
   "metadata": {},
   "source": [
    "#### 选定检验方法和计算检验统计量"
   ]
  },
  {
   "cell_type": "markdown",
   "metadata": {},
   "source": [
    "- 根据研究设计的类型和统计推断的目的选用不同的检验方法，如成组设计的两样本均数的比较用t 检验，多个样本均数的比较用F检验"
   ]
  },
  {
   "cell_type": "markdown",
   "metadata": {},
   "source": [
    "- 检验统计量适用于抉择是否拒绝H0 的统计量,因此在我们确定检验假设H0，H1时，检验方法的和检验统计量就已经确定了，其统计分布在统计推断中至关重要，不同的检验方法要用不同的方式计算现有样本的检验统计量"
   ]
  },
  {
   "cell_type": "markdown",
   "metadata": {},
   "source": [
    "####  确定P值和做出推断结论"
   ]
  },
  {
   "cell_type": "markdown",
   "metadata": {},
   "source": [
    "- 这里的P值是指由H0成立时的检验统计量出现在用本计算出来的统计量的末端或者更末端处的概率值\n",
    "- 当P<=α时，结论按照索取检验水准H0，即认为两者的均值有显著性差异，而H0设定为两者相等，推翻H0，接受H1。（按照P值的定义，在H0成立的条件下，出现等于及大于现有检验统计量值的概率）The P-value is the probability of obtaining a result at least as extreme as the one that was actually observed, given that the null hypothesis is true.如果是检验问题，p值反映的是样本数据支持原假设的证据，p值越大，证据越强。如果P<α，则认为样本数据不能支持原假设，进而接受H1，即两个均值存在显著性差异，不相等\n",
    "- 如果P>α，样本数据更支持H0，对于H0发生的概率也就越大，从而两个均值没有显著性差异，接受H0。"
   ]
  },
  {
   "cell_type": "code",
   "execution_count": null,
   "metadata": {},
   "outputs": [],
   "source": []
  }
 ],
 "metadata": {
  "kernelspec": {
   "display_name": "Python 3",
   "language": "python",
   "name": "python3"
  },
  "language_info": {
   "codemirror_mode": {
    "name": "ipython",
    "version": 3
   },
   "file_extension": ".py",
   "mimetype": "text/x-python",
   "name": "python",
   "nbconvert_exporter": "python",
   "pygments_lexer": "ipython3",
   "version": "3.6.2"
  }
 },
 "nbformat": 4,
 "nbformat_minor": 2
}
